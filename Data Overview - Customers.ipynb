{
 "cells": [
  {
   "cell_type": "markdown",
   "metadata": {},
   "source": [
    "# Import libraries"
   ]
  },
  {
   "cell_type": "code",
   "execution_count": 1,
   "metadata": {
    "ExecuteTime": {
     "end_time": "2018-10-28T17:09:05.075316Z",
     "start_time": "2018-10-28T17:09:04.525827Z"
    }
   },
   "outputs": [],
   "source": [
    "import pandas as pd\n",
    "import numpy as np\n",
    "import re"
   ]
  },
  {
   "cell_type": "markdown",
   "metadata": {},
   "source": [
    "# Import CSV Data - Oddle_Assignment Customers Data.csv"
   ]
  },
  {
   "cell_type": "code",
   "execution_count": 2,
   "metadata": {
    "ExecuteTime": {
     "end_time": "2018-10-28T17:09:05.200258Z",
     "start_time": "2018-10-28T17:09:05.102208Z"
    }
   },
   "outputs": [],
   "source": [
    "# Create pandas DF\n",
    "cust_df = pd.read_csv(\"Oddle_Assignment Customers Data.csv\")"
   ]
  },
  {
   "cell_type": "code",
   "execution_count": 3,
   "metadata": {
    "ExecuteTime": {
     "end_time": "2018-10-28T17:09:05.309515Z",
     "start_time": "2018-10-28T17:09:05.284996Z"
    }
   },
   "outputs": [
    {
     "data": {
      "text/html": [
       "<div>\n",
       "<style scoped>\n",
       "    .dataframe tbody tr th:only-of-type {\n",
       "        vertical-align: middle;\n",
       "    }\n",
       "\n",
       "    .dataframe tbody tr th {\n",
       "        vertical-align: top;\n",
       "    }\n",
       "\n",
       "    .dataframe thead th {\n",
       "        text-align: right;\n",
       "    }\n",
       "</style>\n",
       "<table border=\"1\" class=\"dataframe\">\n",
       "  <thead>\n",
       "    <tr style=\"text-align: right;\">\n",
       "      <th></th>\n",
       "      <th>Unnamed: 0</th>\n",
       "      <th>created_on</th>\n",
       "      <th>index</th>\n",
       "      <th>email</th>\n",
       "      <th>gender</th>\n",
       "      <th>age</th>\n",
       "    </tr>\n",
       "  </thead>\n",
       "  <tbody>\n",
       "    <tr>\n",
       "      <th>0</th>\n",
       "      <td>1</td>\n",
       "      <td>2017-12-06 08:21:19</td>\n",
       "      <td>1</td>\n",
       "      <td>JAODT1736K@hotmail.com</td>\n",
       "      <td>F</td>\n",
       "      <td>35-44</td>\n",
       "    </tr>\n",
       "    <tr>\n",
       "      <th>1</th>\n",
       "      <td>2</td>\n",
       "      <td>2018-02-05 03:48:40</td>\n",
       "      <td>2</td>\n",
       "      <td>EMLPI8026E@hotmail.com</td>\n",
       "      <td>F</td>\n",
       "      <td>25-34</td>\n",
       "    </tr>\n",
       "    <tr>\n",
       "      <th>2</th>\n",
       "      <td>3</td>\n",
       "      <td>2018-02-06 07:56:41</td>\n",
       "      <td>3</td>\n",
       "      <td>WVQCK7883L@gmail.com</td>\n",
       "      <td>F</td>\n",
       "      <td>35-44</td>\n",
       "    </tr>\n",
       "    <tr>\n",
       "      <th>3</th>\n",
       "      <td>4</td>\n",
       "      <td>2018-01-01 00:41:11</td>\n",
       "      <td>4</td>\n",
       "      <td>MGWAZ5408T@hotmail.com</td>\n",
       "      <td>M</td>\n",
       "      <td>25-34</td>\n",
       "    </tr>\n",
       "    <tr>\n",
       "      <th>4</th>\n",
       "      <td>5</td>\n",
       "      <td>2018-01-01 12:31:54</td>\n",
       "      <td>5</td>\n",
       "      <td>FCAUD7784F@hotmail.com</td>\n",
       "      <td>F</td>\n",
       "      <td>25-34</td>\n",
       "    </tr>\n",
       "  </tbody>\n",
       "</table>\n",
       "</div>"
      ],
      "text/plain": [
       "   Unnamed: 0           created_on  index                   email gender  \\\n",
       "0           1  2017-12-06 08:21:19      1  JAODT1736K@hotmail.com      F   \n",
       "1           2  2018-02-05 03:48:40      2  EMLPI8026E@hotmail.com      F   \n",
       "2           3  2018-02-06 07:56:41      3    WVQCK7883L@gmail.com      F   \n",
       "3           4  2018-01-01 00:41:11      4  MGWAZ5408T@hotmail.com      M   \n",
       "4           5  2018-01-01 12:31:54      5  FCAUD7784F@hotmail.com      F   \n",
       "\n",
       "     age  \n",
       "0  35-44  \n",
       "1  25-34  \n",
       "2  35-44  \n",
       "3  25-34  \n",
       "4  25-34  "
      ]
     },
     "execution_count": 3,
     "metadata": {},
     "output_type": "execute_result"
    }
   ],
   "source": [
    "# Check imported dataframe\n",
    "cust_df.head()"
   ]
  },
  {
   "cell_type": "code",
   "execution_count": 4,
   "metadata": {
    "ExecuteTime": {
     "end_time": "2018-10-28T17:09:05.496361Z",
     "start_time": "2018-10-28T17:09:05.489402Z"
    }
   },
   "outputs": [],
   "source": [
    "## Reset the Indexes\n",
    "cust_df = cust_df.drop('Unnamed: 0', axis=1)"
   ]
  },
  {
   "cell_type": "code",
   "execution_count": 5,
   "metadata": {
    "ExecuteTime": {
     "end_time": "2018-10-28T17:09:05.696130Z",
     "start_time": "2018-10-28T17:09:05.684722Z"
    }
   },
   "outputs": [
    {
     "data": {
      "text/html": [
       "<div>\n",
       "<style scoped>\n",
       "    .dataframe tbody tr th:only-of-type {\n",
       "        vertical-align: middle;\n",
       "    }\n",
       "\n",
       "    .dataframe tbody tr th {\n",
       "        vertical-align: top;\n",
       "    }\n",
       "\n",
       "    .dataframe thead th {\n",
       "        text-align: right;\n",
       "    }\n",
       "</style>\n",
       "<table border=\"1\" class=\"dataframe\">\n",
       "  <thead>\n",
       "    <tr style=\"text-align: right;\">\n",
       "      <th></th>\n",
       "      <th>created_on</th>\n",
       "      <th>index</th>\n",
       "      <th>email</th>\n",
       "      <th>gender</th>\n",
       "      <th>age</th>\n",
       "    </tr>\n",
       "  </thead>\n",
       "  <tbody>\n",
       "    <tr>\n",
       "      <th>0</th>\n",
       "      <td>2017-12-06 08:21:19</td>\n",
       "      <td>1</td>\n",
       "      <td>JAODT1736K@hotmail.com</td>\n",
       "      <td>F</td>\n",
       "      <td>35-44</td>\n",
       "    </tr>\n",
       "    <tr>\n",
       "      <th>1</th>\n",
       "      <td>2018-02-05 03:48:40</td>\n",
       "      <td>2</td>\n",
       "      <td>EMLPI8026E@hotmail.com</td>\n",
       "      <td>F</td>\n",
       "      <td>25-34</td>\n",
       "    </tr>\n",
       "    <tr>\n",
       "      <th>2</th>\n",
       "      <td>2018-02-06 07:56:41</td>\n",
       "      <td>3</td>\n",
       "      <td>WVQCK7883L@gmail.com</td>\n",
       "      <td>F</td>\n",
       "      <td>35-44</td>\n",
       "    </tr>\n",
       "    <tr>\n",
       "      <th>3</th>\n",
       "      <td>2018-01-01 00:41:11</td>\n",
       "      <td>4</td>\n",
       "      <td>MGWAZ5408T@hotmail.com</td>\n",
       "      <td>M</td>\n",
       "      <td>25-34</td>\n",
       "    </tr>\n",
       "    <tr>\n",
       "      <th>4</th>\n",
       "      <td>2018-01-01 12:31:54</td>\n",
       "      <td>5</td>\n",
       "      <td>FCAUD7784F@hotmail.com</td>\n",
       "      <td>F</td>\n",
       "      <td>25-34</td>\n",
       "    </tr>\n",
       "  </tbody>\n",
       "</table>\n",
       "</div>"
      ],
      "text/plain": [
       "            created_on  index                   email gender    age\n",
       "0  2017-12-06 08:21:19      1  JAODT1736K@hotmail.com      F  35-44\n",
       "1  2018-02-05 03:48:40      2  EMLPI8026E@hotmail.com      F  25-34\n",
       "2  2018-02-06 07:56:41      3    WVQCK7883L@gmail.com      F  35-44\n",
       "3  2018-01-01 00:41:11      4  MGWAZ5408T@hotmail.com      M  25-34\n",
       "4  2018-01-01 12:31:54      5  FCAUD7784F@hotmail.com      F  25-34"
      ]
     },
     "execution_count": 5,
     "metadata": {},
     "output_type": "execute_result"
    }
   ],
   "source": [
    "cust_df.head()"
   ]
  },
  {
   "cell_type": "markdown",
   "metadata": {},
   "source": [
    "# Dataset Overview"
   ]
  },
  {
   "cell_type": "markdown",
   "metadata": {},
   "source": [
    "## Check Dimensions of the Dataset."
   ]
  },
  {
   "cell_type": "code",
   "execution_count": 6,
   "metadata": {
    "ExecuteTime": {
     "end_time": "2018-10-28T17:09:06.510396Z",
     "start_time": "2018-10-28T17:09:06.505303Z"
    }
   },
   "outputs": [
    {
     "data": {
      "text/plain": [
       "(50440, 5)"
      ]
     },
     "execution_count": 6,
     "metadata": {},
     "output_type": "execute_result"
    }
   ],
   "source": [
    "# Check Dimensions\n",
    "cust_df.shape\n",
    "\n",
    "# 50440 observations (rows)\n",
    "# 5 Features (cols incl index)"
   ]
  },
  {
   "cell_type": "markdown",
   "metadata": {},
   "source": [
    "## Check for Missing Values"
   ]
  },
  {
   "cell_type": "code",
   "execution_count": 7,
   "metadata": {
    "ExecuteTime": {
     "end_time": "2018-10-28T17:09:06.966014Z",
     "start_time": "2018-10-28T17:09:06.949490Z"
    }
   },
   "outputs": [
    {
     "data": {
      "text/plain": [
       "created_on    0\n",
       "index         0\n",
       "email         0\n",
       "gender        0\n",
       "age           0\n",
       "dtype: int64"
      ]
     },
     "execution_count": 7,
     "metadata": {},
     "output_type": "execute_result"
    }
   ],
   "source": [
    "# Check for Missing Values\n",
    "cust_df.isnull().sum()\n",
    "\n",
    "## No missing values in all features"
   ]
  },
  {
   "cell_type": "markdown",
   "metadata": {},
   "source": [
    "## Check for Datatypes (changed accordingly for work to be done in python)"
   ]
  },
  {
   "cell_type": "code",
   "execution_count": 8,
   "metadata": {
    "ExecuteTime": {
     "end_time": "2018-10-28T17:09:07.327187Z",
     "start_time": "2018-10-28T17:09:07.320899Z"
    }
   },
   "outputs": [
    {
     "data": {
      "text/plain": [
       "created_on    object\n",
       "index          int64\n",
       "email         object\n",
       "gender        object\n",
       "age           object\n",
       "dtype: object"
      ]
     },
     "execution_count": 8,
     "metadata": {},
     "output_type": "execute_result"
    }
   ],
   "source": [
    "#Check data types\n",
    "cust_df.dtypes\n",
    "\n",
    "## From the data dictionary provided in the Assignment PDF\n",
    "# index == customer index no. (unique)\n",
    "# created_on  ==  Date Time\n",
    "# email == string obj\n",
    "# gender == string categorical\n",
    "# age == string categorical (bins)"
   ]
  },
  {
   "cell_type": "markdown",
   "metadata": {},
   "source": [
    "## Check for Duplicates, Validity etc"
   ]
  },
  {
   "cell_type": "markdown",
   "metadata": {},
   "source": [
    "### Index"
   ]
  },
  {
   "cell_type": "code",
   "execution_count": 9,
   "metadata": {
    "ExecuteTime": {
     "end_time": "2018-10-28T17:09:08.187458Z",
     "start_time": "2018-10-28T17:09:08.180967Z"
    }
   },
   "outputs": [
    {
     "data": {
      "text/plain": [
       "0"
      ]
     },
     "execution_count": 9,
     "metadata": {},
     "output_type": "execute_result"
    }
   ],
   "source": [
    "# Check duplicates for 'index'\n",
    "cust_df['index'].duplicated().sum()\n",
    "\n",
    "### None. Good."
   ]
  },
  {
   "cell_type": "markdown",
   "metadata": {},
   "source": [
    "### created_on (Date time)"
   ]
  },
  {
   "cell_type": "code",
   "execution_count": 10,
   "metadata": {
    "ExecuteTime": {
     "end_time": "2018-10-28T17:09:08.619247Z",
     "start_time": "2018-10-28T17:09:08.606052Z"
    }
   },
   "outputs": [
    {
     "data": {
      "text/plain": [
       "57"
      ]
     },
     "execution_count": 10,
     "metadata": {},
     "output_type": "execute_result"
    }
   ],
   "source": [
    "# Check duplicates for 'created on'\n",
    "cust_df['created_on'].duplicated().sum()\n",
    "\n",
    "# 57 duplicates of the created date and time\n",
    "\n",
    "### However this is to be ignored. Nothing wrong with users signing up simultaneously.\n",
    "### We would be more concerned with unique IDs"
   ]
  },
  {
   "cell_type": "code",
   "execution_count": 11,
   "metadata": {
    "ExecuteTime": {
     "end_time": "2018-10-28T17:09:08.795879Z",
     "start_time": "2018-10-28T17:09:08.793167Z"
    }
   },
   "outputs": [],
   "source": [
    "## Just to confirm and view the rows\n",
    "##cust_df[cust_df['created_on'].duplicated()].count()"
   ]
  },
  {
   "cell_type": "code",
   "execution_count": 12,
   "metadata": {
    "ExecuteTime": {
     "end_time": "2018-10-28T17:09:09.064128Z",
     "start_time": "2018-10-28T17:09:09.046466Z"
    }
   },
   "outputs": [],
   "source": [
    "# Adjust datatypes for the dataframe:\n",
    "## created_on = datetime.\n",
    "cust_df['created_on'] = pd.to_datetime(cust_df['created_on'])"
   ]
  },
  {
   "cell_type": "code",
   "execution_count": 13,
   "metadata": {
    "ExecuteTime": {
     "end_time": "2018-10-28T17:09:09.486662Z",
     "start_time": "2018-10-28T17:09:09.479419Z"
    }
   },
   "outputs": [
    {
     "data": {
      "text/plain": [
       "Timestamp('2018-10-19 06:56:15')"
      ]
     },
     "execution_count": 13,
     "metadata": {},
     "output_type": "execute_result"
    }
   ],
   "source": [
    "cust_df['created_on'].max()"
   ]
  },
  {
   "cell_type": "code",
   "execution_count": 14,
   "metadata": {
    "ExecuteTime": {
     "end_time": "2018-10-28T17:09:09.669798Z",
     "start_time": "2018-10-28T17:09:09.665175Z"
    }
   },
   "outputs": [
    {
     "data": {
      "text/plain": [
       "Timestamp('2014-03-04 18:00:32')"
      ]
     },
     "execution_count": 14,
     "metadata": {},
     "output_type": "execute_result"
    }
   ],
   "source": [
    "cust_df['created_on'].min()"
   ]
  },
  {
   "cell_type": "markdown",
   "metadata": {},
   "source": [
    "### email"
   ]
  },
  {
   "cell_type": "code",
   "execution_count": 15,
   "metadata": {
    "ExecuteTime": {
     "end_time": "2018-10-28T17:09:10.635740Z",
     "start_time": "2018-10-28T17:09:10.621576Z"
    }
   },
   "outputs": [
    {
     "data": {
      "text/plain": [
       "0"
      ]
     },
     "execution_count": 15,
     "metadata": {},
     "output_type": "execute_result"
    }
   ],
   "source": [
    "# Check duplicates for 'email'\n",
    "cust_df['email'].duplicated().sum()\n",
    "\n",
    "### None. Good."
   ]
  },
  {
   "cell_type": "code",
   "execution_count": 16,
   "metadata": {
    "ExecuteTime": {
     "end_time": "2018-10-28T17:09:10.817038Z",
     "start_time": "2018-10-28T17:09:10.813648Z"
    }
   },
   "outputs": [],
   "source": [
    "## Email checker function - Check that the email entered by the user is in a valid email format\n",
    "## a string of a certain length containing characters followed by an @ symbol followed by characters\n",
    "## followed by a \".\" followed by more characters.\n",
    "## @.com = 5 chars , so it needs min 7 chars to qualify\n",
    "\n",
    "def is_valid_email(email):\n",
    "    if len(email) > 7:\n",
    "        return bool(re.match(\"^.+@(\\[?)[a-zA-Z0-9-.]+.([a-zA-Z]{2,3}|[0-9]{1,3})(]?)$\", email)) ##Return boolean\n",
    "    else:\n",
    "        return False"
   ]
  },
  {
   "cell_type": "code",
   "execution_count": 17,
   "metadata": {
    "ExecuteTime": {
     "end_time": "2018-10-28T17:09:11.101177Z",
     "start_time": "2018-10-28T17:09:11.096037Z"
    }
   },
   "outputs": [
    {
     "data": {
      "text/plain": [
       "False"
      ]
     },
     "execution_count": 17,
     "metadata": {},
     "output_type": "execute_result"
    }
   ],
   "source": [
    "## Testing.. Ok\n",
    "is_valid_email(\"a@a.com\")"
   ]
  },
  {
   "cell_type": "code",
   "execution_count": 18,
   "metadata": {
    "ExecuteTime": {
     "end_time": "2018-10-28T17:09:11.408358Z",
     "start_time": "2018-10-28T17:09:11.325201Z"
    }
   },
   "outputs": [],
   "source": [
    "cust_df['email_valid'] = cust_df['email'].apply(lambda x: is_valid_email(x))"
   ]
  },
  {
   "cell_type": "code",
   "execution_count": 19,
   "metadata": {
    "ExecuteTime": {
     "end_time": "2018-10-28T17:09:11.586719Z",
     "start_time": "2018-10-28T17:09:11.579322Z"
    }
   },
   "outputs": [
    {
     "data": {
      "text/plain": [
       "True     50134\n",
       "False      306\n",
       "Name: email_valid, dtype: int64"
      ]
     },
     "execution_count": 19,
     "metadata": {},
     "output_type": "execute_result"
    }
   ],
   "source": [
    "cust_df['email_valid'].value_counts()"
   ]
  },
  {
   "cell_type": "code",
   "execution_count": 20,
   "metadata": {
    "ExecuteTime": {
     "end_time": "2018-10-28T17:09:12.125471Z",
     "start_time": "2018-10-28T17:09:12.121608Z"
    }
   },
   "outputs": [],
   "source": [
    "#cust_df[cust_df['email_valid'] == False]\n",
    "\n",
    "## IGNORE email address issues. Assumption that all emails are VALID."
   ]
  },
  {
   "cell_type": "markdown",
   "metadata": {},
   "source": [
    "### gender"
   ]
  },
  {
   "cell_type": "code",
   "execution_count": 21,
   "metadata": {
    "ExecuteTime": {
     "end_time": "2018-10-28T17:09:12.577911Z",
     "start_time": "2018-10-28T17:09:12.567515Z"
    }
   },
   "outputs": [
    {
     "data": {
      "text/plain": [
       "F          35169\n",
       "M          10223\n",
       "Unknown     5048\n",
       "Name: gender, dtype: int64"
      ]
     },
     "execution_count": 21,
     "metadata": {},
     "output_type": "execute_result"
    }
   ],
   "source": [
    "# Check types for 'gender'\n",
    "cust_df['gender'].value_counts()"
   ]
  },
  {
   "cell_type": "code",
   "execution_count": 22,
   "metadata": {
    "ExecuteTime": {
     "end_time": "2018-10-28T17:09:12.807259Z",
     "start_time": "2018-10-28T17:09:12.800311Z"
    }
   },
   "outputs": [
    {
     "data": {
      "text/plain": [
       "50440"
      ]
     },
     "execution_count": 22,
     "metadata": {},
     "output_type": "execute_result"
    }
   ],
   "source": [
    "cust_df['gender'].count()\n",
    "## 35169 + 10223+ 5048\n",
    "\n",
    "## Too little data to impute\n",
    "## Imputation method to try: KNN\n",
    "## Unknown possibilities:\n",
    "## 1: Not compulsary to fill in the field or select from dropdown.\n",
    "## 2: Can also be seen as 'unspecified'\n",
    "## 3: In this day and age M/F might not be enough to describe oneself.\n",
    "\n",
    "## Will IGNORE this first."
   ]
  },
  {
   "cell_type": "markdown",
   "metadata": {},
   "source": [
    "### age"
   ]
  },
  {
   "cell_type": "code",
   "execution_count": 23,
   "metadata": {
    "ExecuteTime": {
     "end_time": "2018-10-28T17:09:13.436144Z",
     "start_time": "2018-10-28T17:09:13.425209Z"
    }
   },
   "outputs": [
    {
     "data": {
      "text/plain": [
       "25-34      15606\n",
       "Unknown    12081\n",
       "35-44       9488\n",
       "18-24       6548\n",
       "45-54       4101\n",
       "55-64       1571\n",
       "65+         1045\n",
       "Name: age, dtype: int64"
      ]
     },
     "execution_count": 23,
     "metadata": {},
     "output_type": "execute_result"
    }
   ],
   "source": [
    "## Check AGE BINS\n",
    "cust_df['age'].value_counts()\n",
    "\n",
    "## Too little data to impute;\n",
    "## Imputation method to try: KNN\n",
    "## Other Method:\n",
    "## - Exclude the Unknowns. \n",
    "## - Get the Percentage of the known age groups, then divide the Unknowns and distribute by that percentage\n",
    "\n",
    "## Unknown possibilities:\n",
    "## 1: Not compulsary to fill in the field or select from dropdown.\n",
    "## 2: Can also be seen as 'unspecified'"
   ]
  },
  {
   "cell_type": "code",
   "execution_count": 24,
   "metadata": {
    "ExecuteTime": {
     "end_time": "2018-10-28T17:09:13.685434Z",
     "start_time": "2018-10-28T17:09:13.679786Z"
    }
   },
   "outputs": [
    {
     "data": {
      "text/plain": [
       "created_on     datetime64[ns]\n",
       "index                   int64\n",
       "email                  object\n",
       "gender                 object\n",
       "age                    object\n",
       "email_valid              bool\n",
       "dtype: object"
      ]
     },
     "execution_count": 24,
     "metadata": {},
     "output_type": "execute_result"
    }
   ],
   "source": [
    "#Check data types\n",
    "cust_df.dtypes"
   ]
  },
  {
   "cell_type": "markdown",
   "metadata": {
    "ExecuteTime": {
     "end_time": "2018-10-25T17:04:27.986720Z",
     "start_time": "2018-10-25T17:04:27.973819Z"
    }
   },
   "source": [
    "# Summary of Customer dataset"
   ]
  },
  {
   "cell_type": "markdown",
   "metadata": {},
   "source": [
    "- The dataset consist of **50440 observations (rows) 5 Features (cols incl index)**\n",
    "- No missing values or nulls or NaNs in all columns\n",
    "- This dataset spans from **2014-03-04** to **2018-10-19**\n",
    "\n",
    "<b>From the data dictionary provided in the Assignment PDF</b>\n",
    "- index == customer index no. (unique)\n",
    "- created_on  ==  Date Time\n",
    "- email == string obj\n",
    "- gender == string categorical\n",
    "- age == string categorical (bins)\n",
    "\n",
    "<b>Data validity:</b>\n",
    "- indexes are unique. No duplicates\n",
    "- created_on has 57 duplicates of the created date and time\n",
    "    - However this is to be ignored. Nothing wrong with users signing up simultaneously.\n",
    "    - We would be mor concerned with unique IDs\n",
    "- email has no duplicates.\n",
    "    - A potential concern was for invalid email addresses\n",
    "    - Simple check for email was done (Check for @ . and more than 7 chars)\n",
    "    - 306 was flagged to be invalid\n",
    "    - Howevere for this case study, since all emails are encrypted, we will assume that they are all valid\n",
    "- gender has 3 categories [ M / F / Unknown ]\n",
    "    - Unknown possibilities:\n",
    "        - 1: Not compulsary to fill in the field or select from dropdown.\n",
    "        - 2: Can also be seen as 'unspecified'\n",
    "        - 3: In this day and age M/F might not be enough to describe oneself.\n",
    "    - Might relook at imputation later.\n",
    "- age has 7 bins [ 18-24 / 25-34 / 35-44 / 45-54 / 55-64 / 65+ / Unknown ]\n",
    "    - Unknown possibilities:\n",
    "        - 1: Not compulsary to fill in the field or select from dropdown.\n",
    "        - 2: Can also be seen as 'unspecified'\n",
    "    - Might relook at imputation later."
   ]
  },
  {
   "cell_type": "markdown",
   "metadata": {},
   "source": [
    "# Please see Tableau Dashboard for Customers Data for Viz"
   ]
  },
  {
   "cell_type": "markdown",
   "metadata": {},
   "source": [
    "https://public.tableau.com/profile/ziig.yee#!/vizhome/Oddle_Customer_Overview/CustDataOverview\n",
    "\n",
    "- Please click the full-screen button at the bottom left of the viz\n",
    "<img src=fullscreen.png>"
   ]
  },
  {
   "cell_type": "code",
   "execution_count": null,
   "metadata": {},
   "outputs": [],
   "source": []
  }
 ],
 "metadata": {
  "kernelspec": {
   "display_name": "Python 3",
   "language": "python",
   "name": "python3"
  },
  "language_info": {
   "codemirror_mode": {
    "name": "ipython",
    "version": 3
   },
   "file_extension": ".py",
   "mimetype": "text/x-python",
   "name": "python",
   "nbconvert_exporter": "python",
   "pygments_lexer": "ipython3",
   "version": "3.6.6"
  },
  "toc": {
   "base_numbering": 1,
   "nav_menu": {},
   "number_sections": true,
   "sideBar": true,
   "skip_h1_title": false,
   "title_cell": "Table of Contents",
   "title_sidebar": "Contents",
   "toc_cell": false,
   "toc_position": {},
   "toc_section_display": true,
   "toc_window_display": false
  }
 },
 "nbformat": 4,
 "nbformat_minor": 2
}
